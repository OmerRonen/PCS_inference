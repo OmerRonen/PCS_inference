{
 "cells": [
  {
   "cell_type": "code",
   "execution_count": 8,
   "id": "998481a8-ec58-4722-aff3-4ebe7c99babe",
   "metadata": {},
   "outputs": [],
   "source": [
    "import pandas as pd\n",
    "import os\n",
    "import numpy as np\n",
    "import sys\n",
    "sys.path.append(\"../\")\n",
    "from data_perturbations import *\n",
    "from competing_methods import *\n",
    "from PCS_confidence_intervals import *\n",
    "from sklearn.model_selection import train_test_split\n",
    "from sklearn.ensemble import RandomForestRegressor\n",
    "from sklearn.metrics import r2_score\n",
    "from imodels import FIGSRegressor\n",
    "import scipy.stats as st\n",
    "from sim_utils import *\n",
    "import statistics\n",
    "from tqdm import tqdm\n",
    "#from imodels.importance import RandomForestPlusRegressor"
   ]
  },
  {
   "cell_type": "code",
   "execution_count": 2,
   "id": "a9bf2276-2a5e-40ec-824e-cd1c3bdb1dfb",
   "metadata": {},
   "outputs": [],
   "source": [
    "def get_length(confidence_interval):\n",
    "    return np.abs(confidence_interval[1] - confidence_interval[0])"
   ]
  },
  {
   "cell_type": "markdown",
   "id": "cb7d02b9-b97c-491c-9323-1e29aafc65aa",
   "metadata": {},
   "source": [
    "# Load Data "
   ]
  },
  {
   "cell_type": "code",
   "execution_count": 96,
   "id": "2b115c27-d6b7-4ab8-bae2-2105d317e4f4",
   "metadata": {},
   "outputs": [],
   "source": [
    "X  = pd.read_csv(\"../data/X_uncorrelated_enhancer.csv\").iloc[:500,:]\n",
    "num_reps = 200\n",
    "heritability = 0.1\n",
    "error_fun = np.random.normal\n",
    "#y = pd.read_csv(\"../data/y_enhancer.csv\")\n",
    "#X_train, X_test, y_train, y_test  = train_test_split(X, y, test_size=0.2)\n",
    "#X_train, X_val, y_train, y_val  = train_test_split(X_train, y_train, test_size=0.25,)"
   ]
  },
  {
   "cell_type": "markdown",
   "id": "f9fe2211-1aec-4c44-bcb5-425f28a6ddae",
   "metadata": {},
   "source": [
    "# Evaluate Classical Confidence Interval "
   ]
  },
  {
   "cell_type": "code",
   "execution_count": 97,
   "id": "7b56857c-3fef-4f5a-a512-c6153b7a3459",
   "metadata": {},
   "outputs": [],
   "source": [
    "classic_CI_length = []\n",
    "classic_coverage_indicator = []\n",
    "for i in range(num_reps):\n",
    "    y = linear_model(np.array(X),sigma = None, s = 1, beta= 0.2, heritability = heritability,error_fun=error_fun)\n",
    "    #print(classic_confidence_interval(X,y))\n",
    "    CI = classic_confidence_interval(X,y).iloc[1,:].values\n",
    "    classic_CI_length.append(get_length(CI))\n",
    "    if CI[0] <= 0.2 <= CI[1]:\n",
    "        classic_coverage_indicator.append(1.0)\n",
    "    else:\n",
    "        classic_coverage_indicator.append(0.0)\n"
   ]
  },
  {
   "cell_type": "code",
   "execution_count": 98,
   "id": "af1fd892-1273-4cb3-8c5a-cab5dac4d515",
   "metadata": {},
   "outputs": [
    {
     "name": "stdout",
     "output_type": "stream",
     "text": [
      "0.15370272249997702\n",
      "0.925\n"
     ]
    }
   ],
   "source": [
    "print(statistics.mean(classic_CI_length))\n",
    "print(statistics.mean(classic_coverage_indicator))"
   ]
  },
  {
   "cell_type": "markdown",
   "id": "5b484886-2e78-4743-beea-bb4ed3d5a4b6",
   "metadata": {},
   "source": [
    "# Evaluate Bootstrap CI "
   ]
  },
  {
   "cell_type": "code",
   "execution_count": 99,
   "id": "120324d9-d90c-4ea7-b522-f23223483588",
   "metadata": {},
   "outputs": [],
   "source": [
    "import warnings\n",
    "warnings.filterwarnings(\"ignore\")\n",
    "bootstrap_CI_length = []\n",
    "bootstrap_coverage_indicator = []\n",
    "for i in range(num_reps):\n",
    "    y = linear_model(np.array(X),sigma =  None, s = 1, beta= 0.2, heritability = heritability,error_fun=error_fun)\n",
    "    bootstrap_confidence_intervals = bootstrap_confidence_interval(X,y)\n",
    "    CI = bootstrap_confidence_intervals[0]\n",
    "    bootstrap_CI_length.append(get_length(CI))\n",
    "    if CI[0] <= 0.2 <= CI[1]:\n",
    "        bootstrap_coverage_indicator.append(1.0)\n",
    "    else:\n",
    "        bootstrap_coverage_indicator.append(0.0)\n"
   ]
  },
  {
   "cell_type": "code",
   "execution_count": 100,
   "id": "d8cf438f-cdce-476f-9a81-12c4a0c46a38",
   "metadata": {},
   "outputs": [
    {
     "name": "stdout",
     "output_type": "stream",
     "text": [
      "0.15440936984627077\n",
      "0.94\n"
     ]
    }
   ],
   "source": [
    "print(statistics.mean(bootstrap_CI_length))\n",
    "print(statistics.mean(bootstrap_coverage_indicator))"
   ]
  },
  {
   "cell_type": "markdown",
   "id": "0f7088d2-511e-410c-a3cb-41ee159475f0",
   "metadata": {},
   "source": [
    "# PCS Prediction Intervals"
   ]
  },
  {
   "cell_type": "code",
   "execution_count": 101,
   "id": "dece1652-e3f3-4ca2-af89-fa8f673ee2a9",
   "metadata": {},
   "outputs": [],
   "source": [
    "def _generate_perturbed_data(X,y):\n",
    "    X_perturbed, y_perturbed = bootstrap(X,y)\n",
    "    #X_perturbed = add_X_noise(X_perturbed)\n",
    "    y_perturbed = add_normal_measurement_noise(y_perturbed)\n",
    "    return X_perturbed,y_perturbed"
   ]
  },
  {
   "cell_type": "code",
   "execution_count": 102,
   "id": "a2c8c879-b0f9-4509-9507-624b833b2f90",
   "metadata": {},
   "outputs": [],
   "source": [
    "def generate_perturbed_data(X,y):\n",
    "    num_perturbations = 50\n",
    "    X_train_perturbed_list = []\n",
    "    y_train_perturbed_list = []\n",
    "    for i in range(num_perturbations):\n",
    "        X_perturbed,y_perturbed =  _generate_perturbed_data(X,y)\n",
    "        X_train_perturbed_list.append(X_perturbed)\n",
    "        y_train_perturbed_list.append(y_perturbed)\n",
    "    return X_train_perturbed_list,y_train_perturbed_list"
   ]
  },
  {
   "cell_type": "code",
   "execution_count": 103,
   "id": "415b9e4e-0100-4004-aadc-8a45d26305dc",
   "metadata": {},
   "outputs": [
    {
     "name": "stderr",
     "output_type": "stream",
     "text": [
      "100%|██████████████████████████████████████████████████████████████████████████████████████████████████████████████████████████████████████████████████████████| 200/200 [03:22<00:00,  1.01s/it]\n"
     ]
    }
   ],
   "source": [
    "PCS_CI_length = []\n",
    "PCS_coverage_indicator = []\n",
    "for i in tqdm(range(num_reps)):\n",
    "    y = linear_model(np.array(X),sigma = None, s = 1, beta= 0.2, heritability = heritability, error_fun=error_fun)\n",
    "    X_train, X_test, y_train, y_test  = train_test_split(X, y, test_size=0.2)\n",
    "    predictability_screening(X_train,y_train,X_test,y_test)\n",
    "    X_train_perturbed_list,y_train_perturbed_list = generate_perturbed_data(X,y)\n",
    "    import warnings\n",
    "    warnings.filterwarnings(\"ignore\")\n",
    "    p_screened_coefficients = fit_all_model_perturbed_datasets([\"OLS\",\"RidgeCV\"], X_train_perturbed_list, y_train_perturbed_list)\n",
    "    CI = compute_confidence_intervals(X_train,p_screened_coefficients)[0,:]\n",
    "    PCS_CI_length.append(get_length(CI))\n",
    "    if CI[0] <= 0.2 <= CI[1]:\n",
    "        PCS_coverage_indicator.append(1.0)\n",
    "    else:\n",
    "        PCS_coverage_indicator.append(0.0)\n"
   ]
  },
  {
   "cell_type": "code",
   "execution_count": 104,
   "id": "eaadecc7-ec5a-4d2f-ac3c-2f514a9063fe",
   "metadata": {},
   "outputs": [
    {
     "name": "stdout",
     "output_type": "stream",
     "text": [
      "0.14568875586043964\n",
      "0.905\n"
     ]
    }
   ],
   "source": [
    "print(statistics.mean(PCS_CI_length))\n",
    "print(statistics.mean(PCS_coverage_indicator))"
   ]
  },
  {
   "cell_type": "code",
   "execution_count": null,
   "id": "6db382fc-36e5-4c6a-b5d9-6e89bba47587",
   "metadata": {},
   "outputs": [],
   "source": []
  },
  {
   "cell_type": "code",
   "execution_count": null,
   "id": "04c71c26-b5ba-47e4-aea1-a3abbb59c2c4",
   "metadata": {},
   "outputs": [],
   "source": []
  }
 ],
 "metadata": {
  "kernelspec": {
   "display_name": "Python 3 (ipykernel)",
   "language": "python",
   "name": "python3"
  },
  "language_info": {
   "codemirror_mode": {
    "name": "ipython",
    "version": 3
   },
   "file_extension": ".py",
   "mimetype": "text/x-python",
   "name": "python",
   "nbconvert_exporter": "python",
   "pygments_lexer": "ipython3",
   "version": "3.10.6"
  }
 },
 "nbformat": 4,
 "nbformat_minor": 5
}
